{
 "cells": [
  {
   "cell_type": "markdown",
   "metadata": {},
   "source": [
    "## Introduction\n",
    "\n",
    "In this notebook, we are going to explore how the 3 point shot has evolved over years, how scoring has increased/decreased from its usage, and so on."
   ]
  },
  {
   "cell_type": "markdown",
   "metadata": {},
   "source": [
    "We will first start with the basic introduction on 'final_data.csv' - or whatever you named the data file! Let's first import and install all the necessary packages/libraries."
   ]
  },
  {
   "cell_type": "markdown",
   "metadata": {},
   "source": [
    "For a quick disclaimer, there are 3 data sets that I am going to be using for this notebook: 'final_data_2022.csv' - downloaded from the kaggle website; 'final_data_2023.csv' - added the 2023 all star data to 'final_data_2022.csv'; 'final_data_2024.csv' adds on the 2024 all star data to 'final_data_2023.csv'. "
   ]
  },
  {
   "cell_type": "code",
   "execution_count": null,
   "metadata": {},
   "outputs": [],
   "source": [
    "# importing the necessary packages/libraries for the analysis.\n",
    "import numpy as np\n",
    "import pandas as pd\n",
    "import matplotlib.pyplot as plt\n",
    "import seaborn as sns\n",
    "from sklearn.model_selection import train_test_split\n",
    "from sklearn.metrics import mean_squared_error\n",
    "from sklearn.linear_model import LinearRegression\n",
    "from sklearn.tree import DecisionTreeRegressor\n",
    "from sklearn.preprocessing import StandardScaler\n",
    "from tensorflow.keras.models import Sequential\n",
    "from tensorflow.keras.layers import Dense"
   ]
  },
  {
   "cell_type": "markdown",
   "metadata": {},
   "source": [
    "As for this introduction, we will look into all 3 data sets to see if there is any significant change from the past 3 years."
   ]
  },
  {
   "cell_type": "markdown",
   "metadata": {},
   "source": [
    "Let's start with the given data set:"
   ]
  },
  {
   "cell_type": "code",
   "execution_count": null,
   "metadata": {},
   "outputs": [],
   "source": [
    "nba_all_stars_22 = pd.read_csv(\"final_data_2022.csv\")\n",
    "nba_all_stars_22.head(10)"
   ]
  },
  {
   "cell_type": "code",
   "execution_count": null,
   "metadata": {},
   "outputs": [],
   "source": [
    "nba_all_stars_22.info()"
   ]
  },
  {
   "cell_type": "markdown",
   "metadata": {},
   "source": [
    "With 2022 out of the way, let's move the next year (2023):"
   ]
  },
  {
   "cell_type": "code",
   "execution_count": null,
   "metadata": {},
   "outputs": [],
   "source": [
    "# compare to the actual 2023 NBA All-Star FG3As\n",
    "nba_all_stars_23 = pd.read_csv(\"final_data_2023.csv\")\n",
    "nba_all_stars_23.head(10)"
   ]
  },
  {
   "cell_type": "code",
   "execution_count": null,
   "metadata": {},
   "outputs": [],
   "source": [
    "nba_all_stars_23.info()"
   ]
  },
  {
   "cell_type": "code",
   "execution_count": null,
   "metadata": {},
   "outputs": [],
   "source": [
    "# calculate the average 3 pointers attempted for 2023\n",
    "nba_all_stars_23 = nba_all_stars_23[nba_all_stars_23['year'] == 2023]\n",
    "actual_fg3a_2023 = nba_all_stars_23['fg3a'].mean()\n",
    "\n",
    "# print the actual average 3-point attempts for 2023\n",
    "print(f\"Actual Average 3-Point Attempts for 2023 NBA All Stars: {actual_fg3a_2023:.2f}\")"
   ]
  },
  {
   "cell_type": "markdown",
   "metadata": {},
   "source": [
    "This marks the end of the basic introduction of 'final_data.csv', we can now move onto the visualizations of the data set and predictions!"
   ]
  },
  {
   "cell_type": "markdown",
   "metadata": {},
   "source": [
    "## Visualization #1 - Evolution of 3 Pointers Attempted"
   ]
  },
  {
   "cell_type": "code",
   "execution_count": null,
   "metadata": {},
   "outputs": [],
   "source": [
    "# group by year and calculate the average 3 pointers attempted\n",
    "avg_3fga_22 = nba_all_stars_22.groupby('year')['fg3a'].mean().reset_index()\n",
    "\n",
    "# plot the average 3 pointers attempted over the years\n",
    "plt.figure(figsize=(10, 6))\n",
    "sns.scatterplot(data=avg_3fga_22, x='year', y='fg3a', color='blue')\n",
    "sns.regplot(data=avg_3fga_22, x='year', y='fg3a', scatter=False, lowess=True, line_kws={'color': 'black', 'alpha': 0.25}, ci=90)\n",
    "plt.axvline(x=2009, color='gold')\n",
    "\n",
    "# labels and title\n",
    "plt.xlabel('Year')\n",
    "plt.ylabel('Average 3 Pointers Attempted')\n",
    "plt.title('Average 3 Pointers Attempted by All Stars Over the Years')\n",
    "\n",
    "# display the plot\n",
    "plt.show()"
   ]
  },
  {
   "cell_type": "markdown",
   "metadata": {},
   "source": [
    "## Visualization #2 - Predicting the Average FG3As for the '23 NBA All Stars"
   ]
  },
  {
   "cell_type": "markdown",
   "metadata": {},
   "source": [
    "### **2a** - Linear Regression Model"
   ]
  },
  {
   "cell_type": "code",
   "execution_count": null,
   "metadata": {},
   "outputs": [],
   "source": [
    "# replace missing values with 0\n",
    "nba_all_stars_22['fg3a'].fillna(0, inplace=True)\n",
    "\n",
    "# split the data into features and target variable\n",
    "X = nba_all_stars_22[['year']]\n",
    "y = nba_all_stars_22['fg3a']\n",
    "\n",
    "# split the data into training and test sets\n",
    "X_train, X_test, y_train, y_test = train_test_split(X, y, test_size=0.2, random_state=42)\n",
    "\n",
    "# create a linear regression model\n",
    "model = LinearRegression()\n",
    "\n",
    "# train the model\n",
    "model.fit(X_train, y_train)\n",
    "\n",
    "# predict the average number of 3-point attempts for 2023\n",
    "year_2023 = [[2023]]\n",
    "predicted_fg3a_2023 = model.predict(year_2023)\n",
    "\n",
    "# print the predicted average 3-point attempts for 2023\n",
    "print(f\"Predicted Average 3 Pointers Attempted for 2023: {predicted_fg3a_2023[0]:.2f}\")\n",
    "\n",
    "# evaluate the model on the test set\n",
    "y_pred = model.predict(X_test)\n",
    "mse = mean_squared_error(y_test, y_pred)\n",
    "print(f\"Mean Squared Error on Test Set: {mse:.3f}\\n\")\n",
    "\n",
    "# plot the linear regression line\n",
    "plt.figure(figsize=(12, 7))\n",
    "plt.scatter(X, y, color='blue', label='Actual Data')\n",
    "plt.plot(X_test, y_pred, color='red', label='Linear Regression Line')\n",
    "plt.scatter(year_2023, predicted_fg3a_2023, color='gold', marker='*', s=200, label='Predicted for 2023')\n",
    "\n",
    "# add the predicted value slightly to the right of the marker\n",
    "offset = 0.5\n",
    "plt.text(year_2023[0][0] + offset, predicted_fg3a_2023[0], f'{predicted_fg3a_2023[0]:.2f}', ha='left', va='center')\n",
    "\n",
    "# labels and title\n",
    "plt.xlabel('Year')\n",
    "plt.ylabel('Average 3 Pointers Attempted')\n",
    "plt.title('Linear Regression for Average 3 Pointers Attempted Over the Years')\n",
    "plt.legend()\n",
    "plt.show()"
   ]
  },
  {
   "cell_type": "markdown",
   "metadata": {},
   "source": [
    "Now that we have found the actual average FG3As from the 2023 NBA All Stars, let's figure out the MSE (Mean Square Error) to see how accurate the Decision Tree model is. Note: Our MSE on the test data set was 5.005."
   ]
  },
  {
   "cell_type": "code",
   "execution_count": null,
   "metadata": {},
   "outputs": [],
   "source": [
    "# convert to lists if needed\n",
    "actual_3pt_attempts_2023_list = [actual_fg3a_2023]\n",
    "predicted_3pt_attempts_2023_list = [predicted_fg3a_2023]\n",
    "\n",
    "# calculate Mean Squared Error\n",
    "mse_2023 = mean_squared_error(actual_3pt_attempts_2023_list, predicted_3pt_attempts_2023_list)\n",
    "\n",
    "# print the MSE\n",
    "print(f\"Mean Squared Error for 2023: {mse_2023:.3f}\")"
   ]
  },
  {
   "cell_type": "markdown",
   "metadata": {},
   "source": [
    "### **2b** - Decision Trees Model\n",
    "\n",
    "The code block below imputes missing values in the 'fg3a' column of the 'nba_all_stars' DataFrame with the median, then builds and trains a Decision Tree regression model using the 'year' column as a feature to predict the average number of 3-point attempts in 2023. The model is evaluated, and the predictions are visualized alongside the actual data using a scatter plot."
   ]
  },
  {
   "cell_type": "code",
   "execution_count": null,
   "metadata": {},
   "outputs": [],
   "source": [
    "# replace missing values with '0'\n",
    "nba_all_stars_22['fg3a'].fillna(0, inplace=True)\n",
    "\n",
    "# split data into feature and target variable\n",
    "X = nba_all_stars_22[['year']]\n",
    "y = nba_all_stars_22['fg3a']\n",
    "\n",
    "# split the data into training and testing sets\n",
    "X_train, X_test, y_train, y_test = train_test_split(X, y, test_size=0.2, random_state=42)\n",
    "\n",
    "# create a Decision Tree model\n",
    "model = DecisionTreeRegressor(random_state=42)\n",
    "\n",
    "# train the model\n",
    "model.fit(X_train, y_train)\n",
    "\n",
    "# predict the average number of 3-point attempts for 2023\n",
    "year_2023 = [[2023]]\n",
    "predicted_fg3a_2023 = model.predict(year_2023)\n",
    "\n",
    "# print the predicted value\n",
    "print(f\"Predicted Average 3-Point Attempts for 2023 NBA All Stars: {predicted_fg3a_2023[0]:.2f}\")\n",
    "\n",
    "# evaluate the model on the test set (optional)\n",
    "y_pred = model.predict(X_test)\n",
    "mse = mean_squared_error(y_test, y_pred)\n",
    "print(f\"Mean Squared Error on Test Set: {mse:.3f}\\n\")\n",
    "\n",
    "# plot the decision tree predictions\n",
    "plt.figure(figsize=(12, 7))\n",
    "plt.scatter(X, y, color='blue', label='Actual Data')\n",
    "sns.regplot(data=nba_all_stars_22, x=X_test.squeeze(), y=y_pred, scatter=False, lowess=True, line_kws={'color': 'red', 'alpha': 0.75}, label='Decision Tree Predictions')\n",
    "plt.scatter(year_2023, predicted_fg3a_2023, color='gold', marker='*', s=200, label='Predicted for 2023')\n",
    "\n",
    "# add the predicted value slightly to the right of the marker\n",
    "offset = 0.5\n",
    "plt.text(year_2023[0][0] + offset, predicted_fg3a_2023[0], f'{predicted_fg3a_2023[0]:.2f}', ha='left', va='center')\n",
    "\n",
    "# labels and title\n",
    "plt.xlabel('Year')\n",
    "plt.ylabel('Average 3 Pointers Attempted')\n",
    "plt.title('Decision Tree Regression for Average 3 Pointers Attempted Over the Years')\n",
    "plt.legend()\n",
    "plt.show()"
   ]
  },
  {
   "cell_type": "markdown",
   "metadata": {},
   "source": [
    "Now that we have found the actual average FG3As from the 2023 NBA All Stars, let's figure out the MSE (Mean Square Error) to see how accurate the Decision Tree model is. Note: Our MSE on the test data set was 5.25. "
   ]
  },
  {
   "cell_type": "code",
   "execution_count": null,
   "metadata": {},
   "outputs": [],
   "source": [
    "# convert to lists if needed\n",
    "actual_3pt_attempts_2023_list = [actual_fg3a_2023]\n",
    "predicted_3pt_attempts_2023_list = [predicted_fg3a_2023]\n",
    "\n",
    "# calculate Mean Squared Error\n",
    "mse_2023 = mean_squared_error(actual_3pt_attempts_2023_list, predicted_3pt_attempts_2023_list)\n",
    "\n",
    "# print the MSE\n",
    "print(f\"Mean Squared Error for 2023: {mse_2023:.3f}\")"
   ]
  },
  {
   "cell_type": "markdown",
   "metadata": {},
   "source": [
    "### **2c** - Neural Networks"
   ]
  },
  {
   "cell_type": "code",
   "execution_count": null,
   "metadata": {},
   "outputs": [],
   "source": [
    "# replace missing values with '0'\n",
    "nba_all_stars_22['fg3a'].fillna(0, inplace=True)\n",
    "\n",
    "# split data into feature and target variable\n",
    "X = nba_all_stars_22[['year']]\n",
    "y = nba_all_stars_22['fg3a']\n",
    "\n",
    "# split the data into training and testing sets\n",
    "X_train, X_test, y_train, y_test = train_test_split(X, y, test_size=0.2, random_state=42)\n",
    "\n",
    "# create a StandardScaler object\n",
    "scaler = StandardScaler()\n",
    "X_train_scaled = scaler.fit_transform(X_train)\n",
    "X_test_scaled = scaler.transform(X_test)\n",
    "\n",
    "# build neural network model\n",
    "model = Sequential()\n",
    "model.add(Dense(10, input_dim=1, activation='relu'))\n",
    "model.add(Dense(1, activation='linear'))\n",
    "\n",
    "# compile the model\n",
    "model.compile(loss='mean_squared_error', optimizer='adam')\n",
    "\n",
    "# train the model\n",
    "model.fit(X_train_scaled, y_train, epochs=50, batch_size=32, verbose=0)\n",
    "# model.fit(X_train_scaled, y_train, epochs=100, batch_size=32, validation_data=(X_test_scaled, y_test))\n",
    "\n",
    "# predict the average number of 'fg3a' for the year 2023\n",
    "year_2023 = np.array([[2023]])\n",
    "year_2023_scaled = scaler.transform(year_2023)\n",
    "predicted_fg3a_2023 = model.predict(year_2023_scaled)[0, 0]\n",
    "\n",
    "# print the predicted value\n",
    "print(f\"Predicted Average fg3a for 2023: {predicted_fg3a_2023:.2f}\")\n",
    "\n",
    "# evaluate the model on the test set (optional)\n",
    "y_pred = model.predict(X_test_scaled).flatten()\n",
    "mse = mean_squared_error(y_test, y_pred)\n",
    "print(f\"Mean Squared Error on Test Set: {mse:.3f}\\n\")\n",
    "\n",
    "# plot the neural network predictions\n",
    "plt.figure(figsize=(10, 6))\n",
    "plt.scatter(X, y, color='blue', label='Actual Data')\n",
    "plt.plot(X_test, y_pred, color='red', label='Neural Network Predictions')\n",
    "plt.scatter(year_2023, predicted_fg3a_2023, color='gold', marker='*', s=200, label='Predicted for 2023')\n",
    "\n",
    "# label and title\n",
    "plt.xlabel('Year')\n",
    "plt.ylabel('Average 3 Pointers Attempted')\n",
    "plt.title('Neural Network Regression for Average 3 Pointers Attempted Over the Years')\n",
    "plt.legend()\n",
    "plt.show()"
   ]
  },
  {
   "cell_type": "markdown",
   "metadata": {},
   "source": [
    "Now that we have found the actual average FG3As from the 2023 NBA All Stars, let's figure out the MSE (Mean Square Error) to see how accurate the Neural Network model is. Note: Our MSE on the test data set was 4.9. "
   ]
  },
  {
   "cell_type": "code",
   "execution_count": null,
   "metadata": {},
   "outputs": [],
   "source": [
    "# convert to lists if needed\n",
    "actual_3pt_attempts_2023_list = [actual_fg3a_2023]\n",
    "predicted_3pt_attempts_2023_list = [predicted_fg3a_2023]\n",
    "\n",
    "# calculate Mean Squared Error\n",
    "mse_2023 = mean_squared_error(actual_3pt_attempts_2023_list, predicted_3pt_attempts_2023_list)\n",
    "\n",
    "# print the MSE\n",
    "print(f\"Mean Squared Error for 2023: {mse_2023:.3f}\")"
   ]
  },
  {
   "cell_type": "markdown",
   "metadata": {},
   "source": [
    "## Conclusion -\n",
    "\n",
    "Linear Regression: \n",
    "- Predicted Value = 5.18\n",
    "- MSE Error = 0.264\n",
    "\n",
    "Decision Trees: \n",
    "- Predicted Value = 5.58\n",
    "- MSE Error = 0.015\n",
    "\n",
    "Neural Networks: \n",
    "- Predicted Value = 5.43\n",
    "- MSE Error = 0.069"
   ]
  }
 ],
 "metadata": {
  "kernelspec": {
   "display_name": "mlModels",
   "language": "python",
   "name": "python3"
  },
  "language_info": {
   "codemirror_mode": {
    "name": "ipython",
    "version": 3
   },
   "file_extension": ".py",
   "mimetype": "text/x-python",
   "name": "python",
   "nbconvert_exporter": "python",
   "pygments_lexer": "ipython3",
   "version": "3.11.5"
  }
 },
 "nbformat": 4,
 "nbformat_minor": 2
}
